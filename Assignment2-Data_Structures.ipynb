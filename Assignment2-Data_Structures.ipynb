{
 "cells": [
  {
   "cell_type": "markdown",
   "id": "d52d1641-5902-4c9d-8d17-80b2721921f1",
   "metadata": {},
   "source": [
    "Q1. How do you comment code in Python? What are the different types of comments?"
   ]
  },
  {
   "cell_type": "markdown",
   "id": "7543b37e-aafc-4695-86a6-cdada2491a53",
   "metadata": {},
   "source": [
    "A1. We can comment in Python using the #(Hash) and \"\"\"(Double Quotes).\n",
    "\n",
    "There are two types of comments in Python:-\n",
    "\n",
    "1) Single Line Comments- They are done by placing # at the start of any line we want to comment out.\n",
    "\n",
    "\n",
    "2) Multi Line Comments- They are done by placing \"\"\" before and after a number of lines we want to comment out.\n",
    "\n",
    "Examples of both types of comments are shown in the next cell."
   ]
  },
  {
   "cell_type": "code",
   "execution_count": null,
   "id": "ec48d192-9e29-4647-bab8-5fc11c64b186",
   "metadata": {},
   "outputs": [],
   "source": [
    "#This is a sinlge line comment\n",
    "\n",
    "\"\"\"\n",
    "This\n",
    "is\n",
    "a\n",
    "multi\n",
    "line\n",
    "comment\n",
    "\"\"\""
   ]
  },
  {
   "cell_type": "code",
   "execution_count": null,
   "id": "459ddcc4-c48d-41fc-b4ed-7092b695bc20",
   "metadata": {},
   "outputs": [],
   "source": []
  },
  {
   "cell_type": "markdown",
   "id": "135cdb5b-8109-4af3-9a0a-ff998b0e21bb",
   "metadata": {},
   "source": [
    "Q2. What are variables in Python? How do you declare and assign values to variables?"
   ]
  },
  {
   "cell_type": "markdown",
   "id": "0a84d687-b02f-4e35-bd4b-9010ee57f1f7",
   "metadata": {},
   "source": [
    "A2. Variables- Variables are the entities in python which are used to assign any type of value(integer, decimal, complex, boolean,string) etc.\n",
    "           They behave as containers that have the references to objects in memory.\n",
    "\n",
    "Declaring a variable- They are declared by providing a name of our choice. Some conventions are needed to be followed while naming variables\n",
    "                      such as:\n",
    "                      a. Variable name should only start with an alphabet or an underscore(_).\n",
    "                      b. It can contain numbers, letters and underscores.\n",
    "                      \n",
    "Assigning a value to a variable- It is done while declaring a variable.\n",
    "                                 Assignment operator(=) is used to assign a value to a variable."
   ]
  },
  {
   "cell_type": "code",
   "execution_count": 4,
   "id": "56e0a96b-2689-48c5-a24f-79ebfde9e6ac",
   "metadata": {},
   "outputs": [],
   "source": [
    "#example of variables\n",
    "name=\"abc\"\n",
    "age=21"
   ]
  },
  {
   "cell_type": "code",
   "execution_count": 5,
   "id": "2767c322-fd2b-4ed3-8e1c-54b218571241",
   "metadata": {},
   "outputs": [
    {
     "data": {
      "text/plain": [
       "'abc'"
      ]
     },
     "execution_count": 5,
     "metadata": {},
     "output_type": "execute_result"
    }
   ],
   "source": [
    "name"
   ]
  },
  {
   "cell_type": "code",
   "execution_count": 6,
   "id": "92916abd-bd1d-4ef0-9207-d646838821a2",
   "metadata": {},
   "outputs": [
    {
     "data": {
      "text/plain": [
       "21"
      ]
     },
     "execution_count": 6,
     "metadata": {},
     "output_type": "execute_result"
    }
   ],
   "source": [
    "age"
   ]
  },
  {
   "cell_type": "raw",
   "id": "0fa04ac2-4694-4604-9842-6bb10c696b35",
   "metadata": {},
   "source": []
  },
  {
   "cell_type": "markdown",
   "id": "bd00f513-1d28-40aa-95c0-28a05da48157",
   "metadata": {},
   "source": [
    "Q3. How do you convert one data type to another in Python?"
   ]
  },
  {
   "cell_type": "markdown",
   "id": "2ba463f4-099b-4558-a4d4-f4bbad15e695",
   "metadata": {},
   "source": [
    "A3. Conversion of a data type into another can be done by the process of Typecasting.\n",
    "    There are various built in functions to do so such as-\n",
    "    \n",
    "    int()- converts to an integer\n",
    "    str()- converts to a string\n",
    "    list()- converts to a list\n",
    "    float()- converts to a float\n",
    "    tuple()- converts to a tuple\n",
    "    \n",
    "    Examples are given below..."
   ]
  },
  {
   "cell_type": "code",
   "execution_count": 7,
   "id": "f45ad72c-7812-4138-a485-de439f16214f",
   "metadata": {},
   "outputs": [
    {
     "data": {
      "text/plain": [
       "int"
      ]
     },
     "execution_count": 7,
     "metadata": {},
     "output_type": "execute_result"
    }
   ],
   "source": [
    "var1 = 45\n",
    "type(var1)"
   ]
  },
  {
   "cell_type": "code",
   "execution_count": 9,
   "id": "a114e857-2252-46e0-812f-89b8142c96aa",
   "metadata": {},
   "outputs": [
    {
     "data": {
      "text/plain": [
       "'45'"
      ]
     },
     "execution_count": 9,
     "metadata": {},
     "output_type": "execute_result"
    }
   ],
   "source": [
    "str(var1)"
   ]
  },
  {
   "cell_type": "code",
   "execution_count": null,
   "id": "6a153891-c854-4571-b507-4827645f7d3f",
   "metadata": {},
   "outputs": [],
   "source": []
  },
  {
   "cell_type": "code",
   "execution_count": 11,
   "id": "c377e556-f291-49a3-b269-782521886cb6",
   "metadata": {},
   "outputs": [],
   "source": [
    "lst = [ 12, 13, 14 ]"
   ]
  },
  {
   "cell_type": "code",
   "execution_count": 12,
   "id": "b3366477-d93c-41db-b58d-c460ae79d90a",
   "metadata": {},
   "outputs": [
    {
     "data": {
      "text/plain": [
       "list"
      ]
     },
     "execution_count": 12,
     "metadata": {},
     "output_type": "execute_result"
    }
   ],
   "source": [
    "type(lst)"
   ]
  },
  {
   "cell_type": "code",
   "execution_count": 13,
   "id": "c57f56ae-ac63-4339-b337-f2dcec925fa8",
   "metadata": {},
   "outputs": [
    {
     "data": {
      "text/plain": [
       "(12, 13, 14)"
      ]
     },
     "execution_count": 13,
     "metadata": {},
     "output_type": "execute_result"
    }
   ],
   "source": [
    "tuple(lst)"
   ]
  },
  {
   "cell_type": "code",
   "execution_count": null,
   "id": "75c8cd29-07b4-4079-9ae9-254c3b65d939",
   "metadata": {},
   "outputs": [],
   "source": []
  },
  {
   "cell_type": "markdown",
   "id": "26411c52-9827-44b1-9551-718d6e623fc0",
   "metadata": {},
   "source": [
    "Q4. How do you write and execute a Python script from the command line?"
   ]
  },
  {
   "cell_type": "markdown",
   "id": "6bea5df1-9a77-4756-b2b8-06f885af8000",
   "metadata": {},
   "source": [
    "A4. Following are the steps to execute a Python script from the command line:-\n",
    "    \n",
    "    Step 1: Write the program in any text editor or IDE, such as Notepad or Pycharm.\n",
    "    Step 2: Save the file with the extension .py, say code.py\n",
    "    Step 3: Open the command prompt.\n",
    "    Step 4: Type the command-> cd {file_directory_address} and press enter, for example if the file was saved on desktop, type cd desktop.\n",
    "    Step 5: Type the command-> python {file_name}.py and press enter, for example, type python code.py\n",
    "    Step 6: The python script will be executed and the output will be displayed."
   ]
  },
  {
   "cell_type": "code",
   "execution_count": null,
   "id": "3d4c3e5f-8d00-428e-884e-9b0c7329c995",
   "metadata": {},
   "outputs": [],
   "source": []
  },
  {
   "cell_type": "markdown",
   "id": "0f881507-e1b9-4110-84c4-7211a7e377cd",
   "metadata": {},
   "source": [
    "Q5. Given a list my_list = [1, 2, 3, 4, 5], write the code to slice the list and obtain the sub-list [2, 3]."
   ]
  },
  {
   "cell_type": "code",
   "execution_count": 1,
   "id": "eebc6239-3a02-4723-8a79-e4a440af5910",
   "metadata": {},
   "outputs": [],
   "source": [
    "my_list = [1,2,3,4,5]"
   ]
  },
  {
   "cell_type": "code",
   "execution_count": 2,
   "id": "467e862d-2762-4bf5-b149-e6740f5b2fa6",
   "metadata": {},
   "outputs": [
    {
     "data": {
      "text/plain": [
       "[2, 3]"
      ]
     },
     "execution_count": 2,
     "metadata": {},
     "output_type": "execute_result"
    }
   ],
   "source": [
    "my_list[1:3]"
   ]
  },
  {
   "cell_type": "code",
   "execution_count": null,
   "id": "83c001e3-526b-4fab-8719-beac3942892d",
   "metadata": {},
   "outputs": [],
   "source": []
  },
  {
   "cell_type": "markdown",
   "id": "7cda7b0c-5aff-4720-bde2-3378a4461390",
   "metadata": {},
   "source": [
    "Q6. What is a complex number in mathematics, and how is it represented in Python?"
   ]
  },
  {
   "cell_type": "markdown",
   "id": "722667d1-87e3-4351-b493-8288ad0e7cfd",
   "metadata": {},
   "source": [
    "A6. A complex number in Mathematics is the one which has two parts- one is the real part and the other is the imaginary part.\n",
    "    For Example: 4+6i is a complex number, where real part is 4, and the imaginary part is 6. The 'i' represents iota and is written along\n",
    "                 with imaginary part.    \n",
    "    \n",
    "Represntation of complex numbers in python:\n",
    "        \n",
    "    Complex numbers can be formed in two ways in python while declaring avariable- either by using the in-built function 'complex'   or\n",
    "    directly typing the real and imaginary parts, although 'j' is used instead of 'i'.\n",
    "    \n",
    "    Examples are shown below:"
   ]
  },
  {
   "cell_type": "code",
   "execution_count": 3,
   "id": "33114981-97b2-4d47-ba59-528ccaa7ecf1",
   "metadata": {},
   "outputs": [],
   "source": [
    "c1 = complex(4,6)\n",
    "c2 = 2-3j"
   ]
  },
  {
   "cell_type": "code",
   "execution_count": 6,
   "id": "d8f3743d-1a9e-48c9-968b-4f4afc45bfc2",
   "metadata": {},
   "outputs": [
    {
     "name": "stdout",
     "output_type": "stream",
     "text": [
      "(4+6j)\n",
      "(2-3j)\n"
     ]
    }
   ],
   "source": [
    "print(c1)\n",
    "print(c2)"
   ]
  },
  {
   "cell_type": "code",
   "execution_count": null,
   "id": "3b94af49-73e4-4d7f-aef8-4433cb78f58d",
   "metadata": {},
   "outputs": [],
   "source": []
  },
  {
   "cell_type": "markdown",
   "id": "c3253fed-adc4-4d9a-bd6f-f39a2d3e1bf4",
   "metadata": {},
   "source": [
    "Q7. What is the correct way to declare a variable named age and assign the value 25 to it?"
   ]
  },
  {
   "cell_type": "markdown",
   "id": "afc5917e-0a42-443f-9dfd-9eab34cddd4b",
   "metadata": {},
   "source": [
    "A7. 1) It can simply be done by declaring a variable named 'age' and assigning value 25 to it using the assignment operator(=).\n",
    "\n",
    "    2) Alternatively, it also be done by taking input from the user with the help of input() function.\n",
    "    \n",
    "    Examples for both are shown below:"
   ]
  },
  {
   "cell_type": "code",
   "execution_count": 7,
   "id": "dcf8b1de-7ae9-42c4-8432-923475fd1334",
   "metadata": {},
   "outputs": [],
   "source": [
    "age = 25"
   ]
  },
  {
   "cell_type": "code",
   "execution_count": 8,
   "id": "a4ed5bc1-c716-4a66-9fa9-17a8c2f2f42c",
   "metadata": {},
   "outputs": [
    {
     "data": {
      "text/plain": [
       "25"
      ]
     },
     "execution_count": 8,
     "metadata": {},
     "output_type": "execute_result"
    }
   ],
   "source": [
    "age"
   ]
  },
  {
   "cell_type": "code",
   "execution_count": 11,
   "id": "cad7fa92-10be-4445-9de5-a659bf929b80",
   "metadata": {},
   "outputs": [
    {
     "name": "stdin",
     "output_type": "stream",
     "text": [
      "Enter the age 25\n"
     ]
    }
   ],
   "source": [
    "Age=int(input(\"Enter the age\"))"
   ]
  },
  {
   "cell_type": "code",
   "execution_count": 12,
   "id": "52055638-8e47-45c5-9d93-15500b8d350b",
   "metadata": {},
   "outputs": [
    {
     "data": {
      "text/plain": [
       "25"
      ]
     },
     "execution_count": 12,
     "metadata": {},
     "output_type": "execute_result"
    }
   ],
   "source": [
    "Age"
   ]
  },
  {
   "cell_type": "code",
   "execution_count": null,
   "id": "fa1fce84-ea55-460b-a8c5-5ad73a1a353b",
   "metadata": {},
   "outputs": [],
   "source": []
  },
  {
   "cell_type": "markdown",
   "id": "b40cff17-e952-43c9-8a84-910808cea10d",
   "metadata": {},
   "source": [
    "Q8. Declare a variable named price and assign the value 9.99 to it. What data type does this variable\n",
    "belong to?"
   ]
  },
  {
   "cell_type": "code",
   "execution_count": 13,
   "id": "045b5611-5661-4591-8507-c174b894acb0",
   "metadata": {},
   "outputs": [],
   "source": [
    "price = 9.99\n",
    "\n",
    "#It has the data type float."
   ]
  },
  {
   "cell_type": "code",
   "execution_count": 14,
   "id": "f887f3dd-8537-4c8b-9c48-c702d5379cd8",
   "metadata": {},
   "outputs": [
    {
     "data": {
      "text/plain": [
       "9.99"
      ]
     },
     "execution_count": 14,
     "metadata": {},
     "output_type": "execute_result"
    }
   ],
   "source": [
    "price"
   ]
  },
  {
   "cell_type": "code",
   "execution_count": null,
   "id": "ce921f36-20c8-4c38-a041-b5ef49ce69d8",
   "metadata": {},
   "outputs": [],
   "source": []
  },
  {
   "cell_type": "markdown",
   "id": "93859232-4fc9-47b5-9ac8-e96b68bd069a",
   "metadata": {},
   "source": [
    "Q9. Create a variable named name and assign your full name to it as a string. How would you print the\n",
    "value of this variable?"
   ]
  },
  {
   "cell_type": "code",
   "execution_count": 15,
   "id": "4cea2549-96a0-481d-92d1-db6050fc4188",
   "metadata": {},
   "outputs": [],
   "source": [
    "name = \"Harsh Swaroop Shrivastava\""
   ]
  },
  {
   "cell_type": "code",
   "execution_count": 17,
   "id": "c999cf7e-c7b4-4a31-8ab4-901eb27e0da9",
   "metadata": {},
   "outputs": [
    {
     "name": "stdout",
     "output_type": "stream",
     "text": [
      "Harsh Swaroop Shrivastava\n"
     ]
    }
   ],
   "source": [
    "#Way 1\n",
    "print(name)"
   ]
  },
  {
   "cell_type": "code",
   "execution_count": 18,
   "id": "730aa4db-0805-4714-8b86-300222f14f55",
   "metadata": {},
   "outputs": [
    {
     "data": {
      "text/plain": [
       "'Harsh Swaroop Shrivastava'"
      ]
     },
     "execution_count": 18,
     "metadata": {},
     "output_type": "execute_result"
    }
   ],
   "source": [
    "#Way 2\n",
    "name"
   ]
  },
  {
   "cell_type": "code",
   "execution_count": null,
   "id": "c9fe5555-f268-4d39-8cb2-da6e24bc2a7a",
   "metadata": {},
   "outputs": [],
   "source": []
  },
  {
   "cell_type": "markdown",
   "id": "6a0cba0a-554d-4ae3-bf42-917927ee65ae",
   "metadata": {},
   "source": [
    "Q10. Given the string \"Hello, World!\", extract the substring \"World\"."
   ]
  },
  {
   "cell_type": "code",
   "execution_count": 20,
   "id": "8337f672-f520-4aa0-b01b-94af5703f9c7",
   "metadata": {},
   "outputs": [],
   "source": [
    "string_var = \"Hello, World!\""
   ]
  },
  {
   "cell_type": "code",
   "execution_count": 22,
   "id": "e8a9fc4c-8343-450a-b969-ec4561fa3ff4",
   "metadata": {},
   "outputs": [
    {
     "data": {
      "text/plain": [
       "'World'"
      ]
     },
     "execution_count": 22,
     "metadata": {},
     "output_type": "execute_result"
    }
   ],
   "source": [
    "string_var[7:12]"
   ]
  },
  {
   "cell_type": "code",
   "execution_count": null,
   "id": "3586c617-fa60-4c9f-83a4-f2034620349b",
   "metadata": {},
   "outputs": [],
   "source": []
  },
  {
   "cell_type": "markdown",
   "id": "f5899949-b311-4bfc-a2e3-33190efb1df5",
   "metadata": {},
   "source": [
    "Q11. Create a variable named \"is_student\" and assign it a boolean value indicating whether you are\n",
    "currently a student or not."
   ]
  },
  {
   "cell_type": "code",
   "execution_count": 23,
   "id": "ef2fe24d-928f-4e8b-867f-d457a5066a30",
   "metadata": {},
   "outputs": [],
   "source": [
    "#Since I'm a student, \"is_student\" should return true value\n",
    "\n",
    "is_student = True"
   ]
  },
  {
   "cell_type": "code",
   "execution_count": 24,
   "id": "b36ee249-8805-43ba-a4e6-088d682d8e66",
   "metadata": {},
   "outputs": [
    {
     "data": {
      "text/plain": [
       "True"
      ]
     },
     "execution_count": 24,
     "metadata": {},
     "output_type": "execute_result"
    }
   ],
   "source": [
    "is_student"
   ]
  }
 ],
 "metadata": {
  "kernelspec": {
   "display_name": "Python 3 (ipykernel)",
   "language": "python",
   "name": "python3"
  },
  "language_info": {
   "codemirror_mode": {
    "name": "ipython",
    "version": 3
   },
   "file_extension": ".py",
   "mimetype": "text/x-python",
   "name": "python",
   "nbconvert_exporter": "python",
   "pygments_lexer": "ipython3",
   "version": "3.10.8"
  }
 },
 "nbformat": 4,
 "nbformat_minor": 5
}
