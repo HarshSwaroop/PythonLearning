{
 "cells": [
  {
   "cell_type": "markdown",
   "id": "588066fe-eb60-4765-a1f2-5cf3cb0283e8",
   "metadata": {},
   "source": [
    "Q1. Which keyword is used to create a function? Create a function to return a list of odd numbers in the\n",
    "range of 1 to 25."
   ]
  },
  {
   "cell_type": "markdown",
   "id": "cc2b6c66-a074-4eee-9717-7189e51a3d63",
   "metadata": {},
   "source": [
    "A1. def keyword is used to create a function."
   ]
  },
  {
   "cell_type": "code",
   "execution_count": 8,
   "id": "39d09a21-7e15-468f-84db-ee82068ba722",
   "metadata": {},
   "outputs": [],
   "source": [
    "#function to return a list of odd numbers\n",
    "\n",
    "def return_odd(list_parameter):\n",
    "    return_list=[]\n",
    "    for i in list_parameter:\n",
    "        if i%2!=0:\n",
    "            return_list.append(i)\n",
    "        else:\n",
    "            continue\n",
    "    return return_list"
   ]
  },
  {
   "cell_type": "code",
   "execution_count": 6,
   "id": "9b37d6ab-2e58-4882-bf9b-bb0713b1c9d8",
   "metadata": {},
   "outputs": [],
   "source": [
    "list1 = [1,2,3,4,5,6,7,8,9,10,11,12,13,14,15,16,17,18,19,20,21,22,23,24,25]"
   ]
  },
  {
   "cell_type": "code",
   "execution_count": 7,
   "id": "dabb4cd3-b0fa-406b-a092-380e73785fbe",
   "metadata": {},
   "outputs": [
    {
     "data": {
      "text/plain": [
       "[1, 3, 5, 7, 9, 11, 13, 15, 17, 19, 21, 23, 25]"
      ]
     },
     "execution_count": 7,
     "metadata": {},
     "output_type": "execute_result"
    }
   ],
   "source": [
    "return_odd(list1)"
   ]
  },
  {
   "cell_type": "code",
   "execution_count": null,
   "id": "6d0ae18e-1104-44c9-a795-2732e632e0d9",
   "metadata": {},
   "outputs": [],
   "source": []
  },
  {
   "cell_type": "markdown",
   "id": "10fdb634-7ac0-4a29-adee-4759ac1be45d",
   "metadata": {},
   "source": [
    "Q2. Why *args and **kwargs is used in some functions? Create a function each for *args and **kwargs to\n",
    "demonstrate their use."
   ]
  },
  {
   "cell_type": "markdown",
   "id": "a931d2a7-69d6-46dd-be8e-dd19a59f59d1",
   "metadata": {},
   "source": [
    "A2. Both are *args and **kwargs are used to deal with multiple number of parameters for a functions.\n",
    "    \n",
    "    *args : It is provided in the argument list of a function to accept any number of parameters for it.\n",
    "            \n",
    "            the parameters are collected in form of a tuple.\n",
    "            The number of parameters passed during any function call can be different everytime with the help of *args.\n",
    "            \n",
    "            \n",
    "    **kwargs : It is provided in the argument list of a function to accept any number of keyword parameters for it.\n",
    "            The parameters are collected in form of a dictionary.\n",
    "            Many number of key-value pairs can be provided as such.\n",
    "            The number of parameters passed during any function call can be different everytime with the help of **kwargs."
   ]
  },
  {
   "cell_type": "code",
   "execution_count": 2,
   "id": "a759de2f-4b69-4e7b-8701-86f29f274f54",
   "metadata": {},
   "outputs": [],
   "source": [
    "#use of *args in a function\n",
    "\n",
    "def add_num(*args):\n",
    "    sum=0\n",
    "    for i in args:\n",
    "        sum+=i\n",
    "    return sum    "
   ]
  },
  {
   "cell_type": "code",
   "execution_count": 3,
   "id": "58d67e0c-ddb0-42c4-baed-24b250a3d47b",
   "metadata": {},
   "outputs": [
    {
     "data": {
      "text/plain": [
       "18"
      ]
     },
     "execution_count": 3,
     "metadata": {},
     "output_type": "execute_result"
    }
   ],
   "source": [
    "add_num(4,5,9)"
   ]
  },
  {
   "cell_type": "code",
   "execution_count": 8,
   "id": "16780efb-2232-482f-bbbe-1e26ff7891c4",
   "metadata": {},
   "outputs": [
    {
     "data": {
      "text/plain": [
       "21.43"
      ]
     },
     "execution_count": 8,
     "metadata": {},
     "output_type": "execute_result"
    }
   ],
   "source": [
    "add_num(1,4,7.2,9.23)"
   ]
  },
  {
   "cell_type": "code",
   "execution_count": 17,
   "id": "170465ad-56d1-4b9c-8dcc-c35e8545ae5a",
   "metadata": {},
   "outputs": [],
   "source": [
    "#use of *kwargs in a function\n",
    "\n",
    "def printer(**kwargs):\n",
    "    for i,j in kwargs.items():\n",
    "        print(\"{} is the key for value {}\".format(i,j))   "
   ]
  },
  {
   "cell_type": "code",
   "execution_count": 18,
   "id": "1f97eb16-d3d1-4e2d-aa10-7c5978873f55",
   "metadata": {},
   "outputs": [
    {
     "name": "stdout",
     "output_type": "stream",
     "text": [
      "a is the key for value 12\n",
      "b is the key for value 24\n",
      "c is the key for value 36\n"
     ]
    }
   ],
   "source": [
    "printer(a=12,b=24,c=36)"
   ]
  },
  {
   "cell_type": "code",
   "execution_count": null,
   "id": "513f8af0-135a-45d6-8e84-5ce1a26adc12",
   "metadata": {},
   "outputs": [],
   "source": []
  },
  {
   "cell_type": "markdown",
   "id": "e1f55a82-0c4f-4d04-baaf-462e5debfe81",
   "metadata": {},
   "source": [
    "Q3. What is an iterator in python? Name the method used to initialise the iterator object and the method\n",
    "used for iteration. Use these methods to print the first five elements of the given list [2, 4, 6, 8, 10, 12, 14, 16,\n",
    "18, 20]."
   ]
  },
  {
   "cell_type": "markdown",
   "id": "4b65b66d-d1b6-4ed7-b639-dadfa5479225",
   "metadata": {},
   "source": [
    "A3. Iterator - An iterator is an object in Python which is used to iterate over iterable items such as lists, tuples, sets, dictionaries,\n",
    "                etc.\n",
    "    \n",
    "    Method used to initialise iterator object -> iter()\n",
    "    \n",
    "    Method used for iteration -> next()"
   ]
  },
  {
   "cell_type": "code",
   "execution_count": 12,
   "id": "76b662bf-a0a0-41ce-926a-3141c60860fb",
   "metadata": {},
   "outputs": [],
   "source": [
    "#printing the first five elements of the given list using iter() and next()\n",
    "\n",
    "list_to_iterate = [2, 4, 6, 8, 10, 12, 14, 16, 18, 20]\n",
    "iter_var = iter(list_to_iterate)"
   ]
  },
  {
   "cell_type": "code",
   "execution_count": 13,
   "id": "7ee4c357-a066-4513-a412-498f9e32211e",
   "metadata": {},
   "outputs": [
    {
     "data": {
      "text/plain": [
       "<list_iterator at 0x7fd46830ef50>"
      ]
     },
     "execution_count": 13,
     "metadata": {},
     "output_type": "execute_result"
    }
   ],
   "source": [
    "iter_var"
   ]
  },
  {
   "cell_type": "code",
   "execution_count": 14,
   "id": "09465760-209a-4caa-824b-05c5e0eb6bbb",
   "metadata": {},
   "outputs": [
    {
     "name": "stdout",
     "output_type": "stream",
     "text": [
      "2\n",
      "4\n",
      "6\n",
      "8\n",
      "10\n"
     ]
    }
   ],
   "source": [
    "for i in range(5):\n",
    "    print(next(iter_var))"
   ]
  },
  {
   "cell_type": "code",
   "execution_count": null,
   "id": "2f3756e6-4878-4a76-9c7d-0ac82cc24ace",
   "metadata": {},
   "outputs": [],
   "source": []
  },
  {
   "cell_type": "markdown",
   "id": "76e2d574-17ce-4273-904b-33b5ba6f629f",
   "metadata": {},
   "source": [
    "Q4. What is a generator function in python? Why yield keyword is used? Give an example of a generator\n",
    "function."
   ]
  },
  {
   "cell_type": "markdown",
   "id": "252ba28c-f19e-4fcb-9ed3-dbf591b6e075",
   "metadata": {},
   "source": [
    "A4. Generator Function - It is a special type of function wich returns an iterator when called.\n",
    "                         They are used when we want to iterate over a large set of values without storing them in memory all at once.\n",
    "                         \n",
    "    Use of yield keyword - It is used within the generator function to specify the values to be generated.\n",
    "                           Whenever the yield keyword is encountered, the function stops its execution for a while \n",
    "                           and returns the yielded value.\n",
    "                           \n",
    "    Example of a generator function is given below:\n",
    "                           "
   ]
  },
  {
   "cell_type": "code",
   "execution_count": 40,
   "id": "250dc396-6c9b-44a6-9940-7b6530f49084",
   "metadata": {},
   "outputs": [],
   "source": [
    "#generator function example\n",
    "\n",
    "def gen_func(num):\n",
    "    for j in range(num):\n",
    "        yield j"
   ]
  },
  {
   "cell_type": "code",
   "execution_count": 41,
   "id": "e8d50c80-dfa4-49cf-9aa1-4aecf5471aae",
   "metadata": {},
   "outputs": [],
   "source": [
    "var = gen_func(10)"
   ]
  },
  {
   "cell_type": "code",
   "execution_count": 42,
   "id": "5f1423be-327d-4524-881a-10b5c9b9deca",
   "metadata": {},
   "outputs": [
    {
     "name": "stdout",
     "output_type": "stream",
     "text": [
      "0\n",
      "1\n",
      "2\n",
      "3\n",
      "4\n",
      "5\n",
      "6\n",
      "7\n",
      "8\n",
      "9\n"
     ]
    }
   ],
   "source": [
    "for item in var:\n",
    "    print(item)"
   ]
  },
  {
   "cell_type": "code",
   "execution_count": null,
   "id": "2e88c4f5-8d82-4a01-b564-9807ab834f90",
   "metadata": {},
   "outputs": [],
   "source": []
  },
  {
   "cell_type": "markdown",
   "id": "755416c1-7bed-46be-9a56-bb51f16cb988",
   "metadata": {},
   "source": [
    "Q5. Create a generator function for prime numbers less than 1000. Use the next() method to print the\n",
    "first 20 prime numbers."
   ]
  },
  {
   "cell_type": "code",
   "execution_count": 94,
   "id": "b4e8dd18-9031-4821-9bf0-71e4c35bc1c8",
   "metadata": {},
   "outputs": [],
   "source": [
    "def prime_check(n):\n",
    "    num = 2\n",
    "\n",
    "    while num < n:\n",
    "        prime=True\n",
    "        for i in range(2, int(num**0.5)+1):\n",
    "            if num%i == 0:\n",
    "                prime=False\n",
    "                break\n",
    "        if prime:\n",
    "            yield num\n",
    "        num += 1"
   ]
  },
  {
   "cell_type": "code",
   "execution_count": 101,
   "id": "0fe3c7d1-4160-4d2d-8021-2d0e7a56ba48",
   "metadata": {},
   "outputs": [
    {
     "data": {
      "text/plain": [
       "<generator object prime_check at 0x7fd451d0f530>"
      ]
     },
     "execution_count": 101,
     "metadata": {},
     "output_type": "execute_result"
    }
   ],
   "source": [
    "prime_check(1000)"
   ]
  },
  {
   "cell_type": "code",
   "execution_count": 102,
   "id": "b6b8bf95-275f-4cb3-8ef2-a0c3ab820868",
   "metadata": {},
   "outputs": [],
   "source": [
    "gen = iter(prime_check(1000))"
   ]
  },
  {
   "cell_type": "code",
   "execution_count": 103,
   "id": "82419141-c8e4-4b45-b951-53a9bad7b2e3",
   "metadata": {},
   "outputs": [
    {
     "name": "stdout",
     "output_type": "stream",
     "text": [
      "2\n",
      "3\n",
      "5\n",
      "7\n",
      "11\n",
      "13\n",
      "17\n",
      "19\n",
      "23\n",
      "29\n",
      "31\n",
      "37\n",
      "41\n",
      "43\n",
      "47\n",
      "53\n",
      "59\n",
      "61\n",
      "67\n",
      "71\n"
     ]
    }
   ],
   "source": [
    "for primes in range(20):\n",
    "    print(next(gen))"
   ]
  }
 ],
 "metadata": {
  "kernelspec": {
   "display_name": "Python 3 (ipykernel)",
   "language": "python",
   "name": "python3"
  },
  "language_info": {
   "codemirror_mode": {
    "name": "ipython",
    "version": 3
   },
   "file_extension": ".py",
   "mimetype": "text/x-python",
   "name": "python",
   "nbconvert_exporter": "python",
   "pygments_lexer": "ipython3",
   "version": "3.10.8"
  }
 },
 "nbformat": 4,
 "nbformat_minor": 5
}
