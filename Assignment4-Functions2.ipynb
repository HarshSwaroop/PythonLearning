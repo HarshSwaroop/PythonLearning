{
 "cells": [
  {
   "cell_type": "markdown",
   "id": "da7a69ca-efa9-441c-897f-82ad0a9216dd",
   "metadata": {},
   "source": [
    "Q1. Create a python program to sort the given list of tuples based on integer value using a\n",
    "lambda function.\n",
    "[('Sachin Tendulkar', 34357), ('Ricky Ponting', 27483), ('Jack Kallis', 25534), ('Virat Kohli', 24936)]"
   ]
  },
  {
   "cell_type": "code",
   "execution_count": 19,
   "id": "25d51b3a-e8fe-4b7e-b234-7a9eab50034b",
   "metadata": {},
   "outputs": [],
   "source": [
    "list_of_tuples = [('Sachin Tendulkar', 34357), ('Ricky Ponting', 27483), ('Jack Kallis', 25534), ('Virat Kohli', 24936)]"
   ]
  },
  {
   "cell_type": "code",
   "execution_count": 44,
   "id": "3d61970c-9f51-4574-a863-2321a77314d2",
   "metadata": {},
   "outputs": [],
   "source": [
    "sorted_list_of_tuples = sorted(list_of_tuples , key= lambda x : x[1] )"
   ]
  },
  {
   "cell_type": "code",
   "execution_count": 45,
   "id": "88d2d5f0-ace5-4c00-918e-669bd4f31e81",
   "metadata": {},
   "outputs": [
    {
     "data": {
      "text/plain": [
       "[('Virat Kohli', 24936),\n",
       " ('Jack Kallis', 25534),\n",
       " ('Ricky Ponting', 27483),\n",
       " ('Sachin Tendulkar', 34357)]"
      ]
     },
     "execution_count": 45,
     "metadata": {},
     "output_type": "execute_result"
    }
   ],
   "source": [
    "sorted_list_of_tuples"
   ]
  },
  {
   "cell_type": "code",
   "execution_count": null,
   "id": "abad5648-b1f8-4ffa-8288-42b70d7b2c68",
   "metadata": {},
   "outputs": [],
   "source": []
  },
  {
   "cell_type": "markdown",
   "id": "b8268c20-9126-4366-b3a3-2941e4795ee9",
   "metadata": {},
   "source": [
    "Q2. Write a Python Program to find the squares of all the numbers in the given list of integers using\n",
    "lambda and map functions.\n",
    "[1, 2, 3, 4, 5, 6, 7, 8, 9, 10]"
   ]
  },
  {
   "cell_type": "code",
   "execution_count": 1,
   "id": "aa2caa01-28a9-42f8-bba5-e6ff3643e7a1",
   "metadata": {},
   "outputs": [],
   "source": [
    "list1 = [1,2,3,4,5,6,7,8,9,10]"
   ]
  },
  {
   "cell_type": "code",
   "execution_count": 2,
   "id": "100d22e0-867b-4e10-8ef2-f220a9411a1b",
   "metadata": {},
   "outputs": [
    {
     "data": {
      "text/plain": [
       "[1, 4, 9, 16, 25, 36, 49, 64, 81, 100]"
      ]
     },
     "execution_count": 2,
     "metadata": {},
     "output_type": "execute_result"
    }
   ],
   "source": [
    "list(map(lambda x: x**2, list1)) "
   ]
  },
  {
   "cell_type": "code",
   "execution_count": null,
   "id": "318bdda3-da2f-45b8-85f9-006e67c545fc",
   "metadata": {},
   "outputs": [],
   "source": []
  },
  {
   "cell_type": "markdown",
   "id": "016e96ca-f992-45d7-ac78-5cfae7a1dfa1",
   "metadata": {},
   "source": [
    "Q3. Write a python program to convert the given list of integers into a tuple of strings. Use map and\n",
    "lambda functions\n",
    "Given String: [1, 2, 3, 4, 5, 6, 7, 8, 9, 10]\n",
    "Expected output: ('1', '2', '3', '4', '5', '6', '7', '8', '9', '10')"
   ]
  },
  {
   "cell_type": "code",
   "execution_count": 4,
   "id": "28cd5b4d-c330-4e16-a19d-9eddb4211d41",
   "metadata": {},
   "outputs": [],
   "source": [
    "String = [1,2,3,4,5,6,7,8,9,10]"
   ]
  },
  {
   "cell_type": "code",
   "execution_count": 5,
   "id": "9bac01a9-8822-4214-9f5c-728be4c5826d",
   "metadata": {},
   "outputs": [
    {
     "data": {
      "text/plain": [
       "('1', '2', '3', '4', '5', '6', '7', '8', '9', '10')"
      ]
     },
     "execution_count": 5,
     "metadata": {},
     "output_type": "execute_result"
    }
   ],
   "source": [
    "tuple(map( lambda x : str(x), String ))"
   ]
  },
  {
   "cell_type": "code",
   "execution_count": null,
   "id": "fe8ecd2d-0dee-4d03-ac5f-3a9c35913a1c",
   "metadata": {},
   "outputs": [],
   "source": []
  },
  {
   "cell_type": "markdown",
   "id": "7ab32bc6-7499-4092-a166-ae78dd5ebeec",
   "metadata": {},
   "source": [
    "Q4. Write a python program using reduce function to compute the product of a list containing numbers\n",
    "from 1 to 25."
   ]
  },
  {
   "cell_type": "code",
   "execution_count": 6,
   "id": "f7466067-f482-41b1-94cf-e6505ec41c49",
   "metadata": {},
   "outputs": [],
   "source": [
    "list_of_numbers = [1,2,3,4,5,6,7,8,9,10,11,12,13,14,15,16,17,18,19,20,21,22,23,24,25]"
   ]
  },
  {
   "cell_type": "code",
   "execution_count": 8,
   "id": "43179139-f43c-4fcc-9548-50d56ece6dd4",
   "metadata": {},
   "outputs": [
    {
     "data": {
      "text/plain": [
       "15511210043330985984000000"
      ]
     },
     "execution_count": 8,
     "metadata": {},
     "output_type": "execute_result"
    }
   ],
   "source": [
    "from functools import reduce\n",
    "reduce( lambda x,y : x*y , list_of_numbers )"
   ]
  },
  {
   "cell_type": "code",
   "execution_count": null,
   "id": "c6918705-982b-4041-8b37-e520403c4409",
   "metadata": {},
   "outputs": [],
   "source": []
  },
  {
   "cell_type": "markdown",
   "id": "ac90e529-d677-47b9-9faf-5411e226fb24",
   "metadata": {},
   "source": [
    "Q5. Write a python program to filter the numbers in a given list that are divisible by 2 and 3 using the\n",
    "filter function.\n",
    "[2, 3, 6, 9, 27, 60, 90, 120, 55, 46]"
   ]
  },
  {
   "cell_type": "code",
   "execution_count": 9,
   "id": "3ea688a5-2956-4c4c-97d9-82da0981e85a",
   "metadata": {},
   "outputs": [],
   "source": [
    "list2 = [2,3,6,9,27,60,90,120,55,46]"
   ]
  },
  {
   "cell_type": "code",
   "execution_count": 10,
   "id": "c838ffef-a91b-48b9-a70a-258658e291d5",
   "metadata": {},
   "outputs": [
    {
     "data": {
      "text/plain": [
       "[2, 3, 6, 9, 27, 60, 90, 120, 46]"
      ]
     },
     "execution_count": 10,
     "metadata": {},
     "output_type": "execute_result"
    }
   ],
   "source": [
    "list(filter(lambda x : x%2==0 or x%3==0 , list2))"
   ]
  },
  {
   "cell_type": "code",
   "execution_count": null,
   "id": "8e2d6110-53af-4ff9-963a-a2d2a8c3fa7a",
   "metadata": {},
   "outputs": [],
   "source": []
  },
  {
   "cell_type": "markdown",
   "id": "64232649-21e5-4230-8fd4-0e3c4ae412ab",
   "metadata": {},
   "source": [
    "Q6. Write a python program to find palindromes in the given list of strings using lambda and filter\n",
    "function.\n",
    "['python', 'php', 'aba', 'radar', 'level']"
   ]
  },
  {
   "cell_type": "code",
   "execution_count": 12,
   "id": "12a500c0-35c1-4364-bf42-3bb647fc0518",
   "metadata": {},
   "outputs": [],
   "source": [
    "list_of_strings = ['python', 'php', 'aba', 'radar', 'level']"
   ]
  },
  {
   "cell_type": "code",
   "execution_count": 14,
   "id": "03a29b53-4c0c-412d-a55a-e24ed37dbf23",
   "metadata": {},
   "outputs": [
    {
     "data": {
      "text/plain": [
       "['php', 'aba', 'radar', 'level']"
      ]
     },
     "execution_count": 14,
     "metadata": {},
     "output_type": "execute_result"
    }
   ],
   "source": [
    "list(filter(lambda x : x[:]==x[::-1] , list_of_strings))"
   ]
  }
 ],
 "metadata": {
  "kernelspec": {
   "display_name": "Python 3 (ipykernel)",
   "language": "python",
   "name": "python3"
  },
  "language_info": {
   "codemirror_mode": {
    "name": "ipython",
    "version": 3
   },
   "file_extension": ".py",
   "mimetype": "text/x-python",
   "name": "python",
   "nbconvert_exporter": "python",
   "pygments_lexer": "ipython3",
   "version": "3.10.8"
  }
 },
 "nbformat": 4,
 "nbformat_minor": 5
}
