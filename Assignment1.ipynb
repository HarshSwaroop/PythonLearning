{
 "cells": [
  {
   "cell_type": "code",
   "execution_count": null,
   "id": "694f6fa6-567c-460d-9cfb-76a9171c1068",
   "metadata": {},
   "outputs": [],
   "source": [
    "\"\"\"\n",
    "Q1. Create one variable containing following type of data:\n",
    "(i) string\n",
    "(ii) list\n",
    "(iii) float\n",
    "(iv) tuple\n",
    "\"\"\""
   ]
  },
  {
   "cell_type": "code",
   "execution_count": 2,
   "id": "d27fd8f1-25e3-4691-814f-d5e71a8926bc",
   "metadata": {},
   "outputs": [],
   "source": [
    "string_var = \"Python\"\n",
    "list_var = [ 23, 26, \"Jupyter\", 45.23, 4+6j ]\n",
    "float_var = 78.46\n",
    "tuple_var = ( 23, 26, \"Jupyter\", 45.23, 4+6j )"
   ]
  },
  {
   "cell_type": "code",
   "execution_count": null,
   "id": "8e55f05a-666c-4b59-9a57-e3ab11b30e0a",
   "metadata": {},
   "outputs": [],
   "source": []
  },
  {
   "cell_type": "code",
   "execution_count": null,
   "id": "c903fa2e-492c-43ff-8d0c-4d2d501aafcc",
   "metadata": {},
   "outputs": [],
   "source": [
    "\"\"\"\n",
    "Q2. Given are some following variables containing data:\n",
    "(i) var1 = ‘ ‘\n",
    "(ii) var2 = ‘[ DS , ML , Python]’\n",
    "(iii) var3 = [ ‘DS’ , ’ML’ , ‘Python’ ]\n",
    "(iv) var4 = 1.\n",
    "What will be the data type of the above given variable.\n",
    "\"\"\""
   ]
  },
  {
   "cell_type": "code",
   "execution_count": null,
   "id": "2d00097d-84a4-46d9-87df-66f058eaa5e7",
   "metadata": {},
   "outputs": [],
   "source": [
    "\"\"\"\n",
    "var1 -> String\n",
    "var2 -> String\n",
    "var3 -> List\n",
    "var4 -> Float\n",
    "\"\"\""
   ]
  },
  {
   "cell_type": "code",
   "execution_count": null,
   "id": "89f4f99c-d215-4413-9ef4-0812ffe49691",
   "metadata": {},
   "outputs": [],
   "source": []
  },
  {
   "cell_type": "code",
   "execution_count": null,
   "id": "c7cf8620-9989-45e1-b1fe-e4c8ea7b58db",
   "metadata": {},
   "outputs": [],
   "source": [
    "\"\"\"\n",
    "Q3. Explain the use of the following operators using an example:\n",
    "(i) /\n",
    "(ii) %\n",
    "(iii) //\n",
    "(iv) **\n",
    "\"\"\""
   ]
  },
  {
   "cell_type": "code",
   "execution_count": 6,
   "id": "af4c620f-2bff-45e0-b327-5435959b6213",
   "metadata": {},
   "outputs": [
    {
     "data": {
      "text/plain": [
       "1.4193548387096775"
      ]
     },
     "execution_count": 6,
     "metadata": {},
     "output_type": "execute_result"
    }
   ],
   "source": [
    "\"\"\"\n",
    "/ operator(Division) : It is used to find the result of division of two numbers, which is always in decimal.\n",
    "\"\"\"\n",
    "\n",
    "44/31"
   ]
  },
  {
   "cell_type": "code",
   "execution_count": 7,
   "id": "51cfc38a-3b7c-4120-8acf-b72c3f7628b9",
   "metadata": {},
   "outputs": [
    {
     "data": {
      "text/plain": [
       "13"
      ]
     },
     "execution_count": 7,
     "metadata": {},
     "output_type": "execute_result"
    }
   ],
   "source": [
    "\"\"\"\n",
    "% operator(Modulus) : It is used to find the remainder in case of division of two numbers.\n",
    "\"\"\"\n",
    "\n",
    "44%31"
   ]
  },
  {
   "cell_type": "code",
   "execution_count": 8,
   "id": "99e7af0e-eb51-42ad-80cb-2579eb2af75f",
   "metadata": {},
   "outputs": [
    {
     "data": {
      "text/plain": [
       "1"
      ]
     },
     "execution_count": 8,
     "metadata": {},
     "output_type": "execute_result"
    }
   ],
   "source": [
    "\"\"\"\n",
    "// operator(Floor Division) : It is used to find only the quotient(floor) in the result of division of two numbers.\n",
    "\"\"\"\n",
    "\n",
    "44//31"
   ]
  },
  {
   "cell_type": "code",
   "execution_count": 9,
   "id": "02dab4c8-7972-4887-9759-2328aebe4f37",
   "metadata": {},
   "outputs": [
    {
     "data": {
      "text/plain": [
       "64"
      ]
     },
     "execution_count": 9,
     "metadata": {},
     "output_type": "execute_result"
    }
   ],
   "source": [
    "\"\"\"\n",
    "** operator(Exponent) : It is used to find the result of left operand raised to the power of left operand.\n",
    "\"\"\"\n",
    "\n",
    "4**3"
   ]
  },
  {
   "cell_type": "code",
   "execution_count": null,
   "id": "f6d85e87-b42d-48b2-bb4f-e60e70210082",
   "metadata": {},
   "outputs": [],
   "source": []
  },
  {
   "cell_type": "code",
   "execution_count": null,
   "id": "6849a2a9-b379-4798-a752-e3d2a3bda4a2",
   "metadata": {},
   "outputs": [],
   "source": [
    "\"\"\"\n",
    "Q4. Create a list of length 10 of your choice containing multiple types of data. Using for loop print the\n",
    "element and its data type.\n",
    "\"\"\""
   ]
  },
  {
   "cell_type": "code",
   "execution_count": 3,
   "id": "e7225f53-cbc4-4cb6-ba5d-9a3362636f7b",
   "metadata": {},
   "outputs": [],
   "source": [
    "myList = [ 23, 35, \"Python\", 73.68, \"Lab\", 4+5j, 1.23, 2-4j, True, False ]"
   ]
  },
  {
   "cell_type": "code",
   "execution_count": 4,
   "id": "778e8e97-d8f3-4c2c-8a8e-484731b2af15",
   "metadata": {},
   "outputs": [
    {
     "name": "stdout",
     "output_type": "stream",
     "text": [
      "23\n",
      "<class 'int'>\n",
      "35\n",
      "<class 'int'>\n",
      "Python\n",
      "<class 'str'>\n",
      "73.68\n",
      "<class 'float'>\n",
      "Lab\n",
      "<class 'str'>\n",
      "(4+5j)\n",
      "<class 'complex'>\n",
      "1.23\n",
      "<class 'float'>\n",
      "(2-4j)\n",
      "<class 'complex'>\n",
      "True\n",
      "<class 'bool'>\n",
      "False\n",
      "<class 'bool'>\n"
     ]
    }
   ],
   "source": [
    "for i in range(len(myList)) :\n",
    "    print(myList[i])\n",
    "    print(type(myList[i]))"
   ]
  },
  {
   "cell_type": "code",
   "execution_count": null,
   "id": "f0807b2f-82e6-45a0-8373-c04e093642a2",
   "metadata": {},
   "outputs": [],
   "source": []
  },
  {
   "cell_type": "code",
   "execution_count": null,
   "id": "08130009-3a86-4c17-af34-4704063ffe84",
   "metadata": {},
   "outputs": [],
   "source": [
    "\"\"\"\n",
    "Q5. Using a while loop, verify if the number A is purely divisible by number B and if so then how many\n",
    "times it can be divisible.\n",
    "\"\"\""
   ]
  },
  {
   "cell_type": "code",
   "execution_count": 5,
   "id": "eb1b3354-e5dd-49ee-b417-608933334aaa",
   "metadata": {},
   "outputs": [],
   "source": [
    "a = 12\n",
    "b = 3"
   ]
  },
  {
   "cell_type": "code",
   "execution_count": 6,
   "id": "e840c3b1-06e9-44c0-9471-eb881f627959",
   "metadata": {},
   "outputs": [
    {
     "name": "stdout",
     "output_type": "stream",
     "text": [
      "12  is purely divisible by  3  by  4  times.\n"
     ]
    }
   ],
   "source": [
    "while a>b :\n",
    "    remainder = a%b\n",
    "    floor = a//b\n",
    "    if(remainder == 0) :\n",
    "        print(a,\" is purely divisible by \",b,\" by \",floor,\" times.\")\n",
    "        break\n",
    "    else :\n",
    "        print(a,\" is not purely divisible by \",b)\n",
    "        break"
   ]
  },
  {
   "cell_type": "code",
   "execution_count": null,
   "id": "23431716-ddc9-463a-928e-f6cdf3baf61e",
   "metadata": {},
   "outputs": [],
   "source": []
  },
  {
   "cell_type": "code",
   "execution_count": null,
   "id": "dd8aaf38-7371-437c-95ff-0e73f263b497",
   "metadata": {},
   "outputs": [],
   "source": [
    "\"\"\"\n",
    "Q6. Create a list containing 25 int type data. Using for loop and if-else condition print if the element is\n",
    "divisible by 3 or not.\n",
    "\"\"\""
   ]
  },
  {
   "cell_type": "code",
   "execution_count": 7,
   "id": "d0c6ff1f-a2fe-46b6-a24a-7da877315eae",
   "metadata": {},
   "outputs": [],
   "source": [
    "useList = [ 1, 2, 3, 4, 5, 6, 7, 8, 9, 10, 11, 12, 13, 14, 15, 16, 17, 18, 19, 20, 21, 22, 23, 24, 25 ]"
   ]
  },
  {
   "cell_type": "code",
   "execution_count": 8,
   "id": "7022444c-684a-40ed-8853-7ae58253f735",
   "metadata": {},
   "outputs": [
    {
     "name": "stdout",
     "output_type": "stream",
     "text": [
      "1  is not divisible by 3\n",
      "2  is not divisible by 3\n",
      "3  is divisible by 3\n",
      "4  is not divisible by 3\n",
      "5  is not divisible by 3\n",
      "6  is divisible by 3\n",
      "7  is not divisible by 3\n",
      "8  is not divisible by 3\n",
      "9  is divisible by 3\n",
      "10  is not divisible by 3\n",
      "11  is not divisible by 3\n",
      "12  is divisible by 3\n",
      "13  is not divisible by 3\n",
      "14  is not divisible by 3\n",
      "15  is divisible by 3\n",
      "16  is not divisible by 3\n",
      "17  is not divisible by 3\n",
      "18  is divisible by 3\n",
      "19  is not divisible by 3\n",
      "20  is not divisible by 3\n",
      "21  is divisible by 3\n",
      "22  is not divisible by 3\n",
      "23  is not divisible by 3\n",
      "24  is divisible by 3\n",
      "25  is not divisible by 3\n"
     ]
    }
   ],
   "source": [
    "for i in range(len(useList)) :\n",
    "    if(useList[i]%3==0) :\n",
    "        print(useList[i], \" is divisible by 3\")\n",
    "    else :\n",
    "        print(useList[i], \" is not divisible by 3\")"
   ]
  },
  {
   "cell_type": "code",
   "execution_count": null,
   "id": "34e132ed-b608-4701-b80c-ec2b79eef49f",
   "metadata": {},
   "outputs": [],
   "source": []
  },
  {
   "cell_type": "code",
   "execution_count": null,
   "id": "d06c8c51-f5e0-46ae-9a10-6b00da750606",
   "metadata": {},
   "outputs": [],
   "source": [
    "\"\"\"\n",
    "Q7. What do you understand about mutable and immutable data types? Give examples for both showing\n",
    "this property.\n",
    "\"\"\""
   ]
  },
  {
   "cell_type": "code",
   "execution_count": null,
   "id": "f2aa87b8-aa21-499b-876b-e62cf0874624",
   "metadata": {},
   "outputs": [],
   "source": [
    "\"\"\"\n",
    "Mutable data types- These are the data types whose values can be updated at a particular index, without changing the value of the whole\n",
    "                    element.\n",
    "Examples- Lists, Sets, Dictionaries, etc.\n",
    "\n",
    "Mutable data types- These are the data types whose values cannot be updated at a particular index, whenever they are updated the are \n",
    "                    updated as a whole.\n",
    "Examples- Strings, Tuples, Integer, Float, etc.\n",
    "\"\"\"\n",
    "\n",
    "\"\"\"\n",
    "Example of a list showing the property of mutability is shown below:\n",
    "\"\"\""
   ]
  },
  {
   "cell_type": "code",
   "execution_count": 10,
   "id": "aade65a0-98c9-4f13-82e6-f88cd2bd9364",
   "metadata": {},
   "outputs": [],
   "source": [
    "List1 = [ 7, 5, 6 ]"
   ]
  },
  {
   "cell_type": "code",
   "execution_count": 11,
   "id": "e6352c67-0a06-41de-b021-676017c09e7a",
   "metadata": {},
   "outputs": [],
   "source": [
    "List1[2] = 9"
   ]
  },
  {
   "cell_type": "code",
   "execution_count": 12,
   "id": "99bdae55-cfe2-403f-99f5-586efd6aeda6",
   "metadata": {},
   "outputs": [
    {
     "data": {
      "text/plain": [
       "[7, 5, 9]"
      ]
     },
     "execution_count": 12,
     "metadata": {},
     "output_type": "execute_result"
    }
   ],
   "source": [
    "List1"
   ]
  },
  {
   "cell_type": "code",
   "execution_count": null,
   "id": "e16473b4-b9e8-4682-9032-f1498179cac3",
   "metadata": {},
   "outputs": [],
   "source": [
    "\"\"\"\n",
    "Example of a string showing the property of immutability is shown below:\n",
    "\"\"\""
   ]
  },
  {
   "cell_type": "code",
   "execution_count": 13,
   "id": "6e8bda1f-0ee3-4ce1-8013-58f9e46ac691",
   "metadata": {},
   "outputs": [],
   "source": [
    "String1 = \"ABCD\""
   ]
  },
  {
   "cell_type": "code",
   "execution_count": 14,
   "id": "dfd7e8ec-7a3e-446d-b5ea-39a98fdfa019",
   "metadata": {},
   "outputs": [
    {
     "data": {
      "text/plain": [
       "'ABCD'"
      ]
     },
     "execution_count": 14,
     "metadata": {},
     "output_type": "execute_result"
    }
   ],
   "source": [
    "String1"
   ]
  },
  {
   "cell_type": "code",
   "execution_count": 15,
   "id": "63b6d743-e5c6-4213-bf98-9b3fccc84139",
   "metadata": {},
   "outputs": [],
   "source": [
    "String1 = \"WXYZ\""
   ]
  },
  {
   "cell_type": "code",
   "execution_count": 16,
   "id": "1439dace-57c8-4e43-8541-2eee121e940c",
   "metadata": {},
   "outputs": [
    {
     "data": {
      "text/plain": [
       "'WXYZ'"
      ]
     },
     "execution_count": 16,
     "metadata": {},
     "output_type": "execute_result"
    }
   ],
   "source": [
    "String1"
   ]
  }
 ],
 "metadata": {
  "kernelspec": {
   "display_name": "Python 3 (ipykernel)",
   "language": "python",
   "name": "python3"
  },
  "language_info": {
   "codemirror_mode": {
    "name": "ipython",
    "version": 3
   },
   "file_extension": ".py",
   "mimetype": "text/x-python",
   "name": "python",
   "nbconvert_exporter": "python",
   "pygments_lexer": "ipython3",
   "version": "3.10.8"
  }
 },
 "nbformat": 4,
 "nbformat_minor": 5
}
